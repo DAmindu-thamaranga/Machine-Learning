{
  "nbformat": 4,
  "nbformat_minor": 0,
  "metadata": {
    "colab": {
      "name": "Untitled11.ipynb",
      "provenance": [],
      "collapsed_sections": [],
      "include_colab_link": true
    },
    "kernelspec": {
      "name": "python3",
      "display_name": "Python 3"
    },
    "language_info": {
      "name": "python"
    }
  },
  "cells": [
    {
      "cell_type": "markdown",
      "metadata": {
        "id": "view-in-github",
        "colab_type": "text"
      },
      "source": [
        "<a href=\"https://colab.research.google.com/github/DAmindu-thamaranga/Machine-Learning/blob/main/2018cs144.ipynb\" target=\"_parent\"><img src=\"https://colab.research.google.com/assets/colab-badge.svg\" alt=\"Open In Colab\"/></a>"
      ]
    },
    {
      "cell_type": "code",
      "metadata": {
        "id": "Hk3QtGpwCXuZ"
      },
      "source": [
        "import numpy as np\n",
        "import pandas as pd"
      ],
      "execution_count": 16,
      "outputs": []
    },
    {
      "cell_type": "code",
      "metadata": {
        "colab": {
          "base_uri": "https://localhost:8080/"
        },
        "id": "BWdS1-egCa3Z",
        "outputId": "ae6b28b3-cc54-49d4-e0d2-99154e777e00"
      },
      "source": [
        "data=pd.read_csv(\"https://raw.githubusercontent.com/DAmindu-thamaranga/Machine-Learning/main/iris.csv\")\n",
        "print(data)"
      ],
      "execution_count": 17,
      "outputs": [
        {
          "output_type": "stream",
          "name": "stdout",
          "text": [
            "     Sepal  length  Sepal width  Petal length  Petal width           Class\n",
            "0              4.9          3.0           1.4          0.2     Iris-setosa\n",
            "1              4.7          3.2           1.3          0.2     Iris-setosa\n",
            "2              4.6          3.1           1.5          0.2     Iris-setosa\n",
            "3              5.0          3.6           1.4          0.2     Iris-setosa\n",
            "4              5.4          3.9           1.7          0.4     Iris-setosa\n",
            "..             ...          ...           ...          ...             ...\n",
            "144            6.7          3.0           5.2          2.3  Iris-virginica\n",
            "145            6.3          2.5           5.0          1.9  Iris-virginica\n",
            "146            6.5          3.0           5.2          2.0  Iris-virginica\n",
            "147            6.2          3.4           5.4          2.3  Iris-virginica\n",
            "148            5.9          3.0           5.1          1.8  Iris-virginica\n",
            "\n",
            "[149 rows x 5 columns]\n"
          ]
        }
      ]
    },
    {
      "cell_type": "code",
      "metadata": {
        "id": "4DfiMAyBChdu"
      },
      "source": [
        "x=data.drop(\"Class\",axis=1)"
      ],
      "execution_count": 18,
      "outputs": []
    },
    {
      "cell_type": "code",
      "metadata": {
        "id": "W8QzoawhCji0"
      },
      "source": [
        "y=data[\"Class\"]"
      ],
      "execution_count": 19,
      "outputs": []
    },
    {
      "cell_type": "code",
      "metadata": {
        "id": "37uR6u5DClnl"
      },
      "source": [
        "from sklearn.model_selection import train_test_split\n",
        "x_train,x_test,y_train,y_test=train_test_split(x,y,test_size=0.3)"
      ],
      "execution_count": 20,
      "outputs": []
    },
    {
      "cell_type": "code",
      "metadata": {
        "colab": {
          "base_uri": "https://localhost:8080/"
        },
        "id": "US0cSjJECoXd",
        "outputId": "8eabd066-8379-4d75-c5a3-574bff95ff20"
      },
      "source": [
        "from sklearn.ensemble import RandomForestClassifier\n",
        "model=RandomForestClassifier(n_estimators=100)\n",
        "model.fit(x_train,y_train)"
      ],
      "execution_count": 21,
      "outputs": [
        {
          "output_type": "execute_result",
          "data": {
            "text/plain": [
              "RandomForestClassifier(bootstrap=True, ccp_alpha=0.0, class_weight=None,\n",
              "                       criterion='gini', max_depth=None, max_features='auto',\n",
              "                       max_leaf_nodes=None, max_samples=None,\n",
              "                       min_impurity_decrease=0.0, min_impurity_split=None,\n",
              "                       min_samples_leaf=1, min_samples_split=2,\n",
              "                       min_weight_fraction_leaf=0.0, n_estimators=100,\n",
              "                       n_jobs=None, oob_score=False, random_state=None,\n",
              "                       verbose=0, warm_start=False)"
            ]
          },
          "metadata": {},
          "execution_count": 21
        }
      ]
    },
    {
      "cell_type": "code",
      "metadata": {
        "id": "rM_v9wqRCqMq"
      },
      "source": [
        "pred=model.predict(x_test)"
      ],
      "execution_count": 22,
      "outputs": []
    },
    {
      "cell_type": "code",
      "metadata": {
        "colab": {
          "base_uri": "https://localhost:8080/"
        },
        "id": "fD-uuUswCr6F",
        "outputId": "4c516598-418e-412d-9e5c-024594ffa4b7"
      },
      "source": [
        "pred"
      ],
      "execution_count": 23,
      "outputs": [
        {
          "output_type": "execute_result",
          "data": {
            "text/plain": [
              "array(['Iris-virginica', 'Iris-setosa', 'Iris-versicolor',\n",
              "       'Iris-virginica', 'Iris-versicolor', 'Iris-versicolor',\n",
              "       'Iris-virginica', 'Iris-virginica', 'Iris-versicolor',\n",
              "       'Iris-setosa', 'Iris-versicolor', 'Iris-setosa', 'Iris-setosa',\n",
              "       'Iris-virginica', 'Iris-versicolor', 'Iris-versicolor',\n",
              "       'Iris-virginica', 'Iris-setosa', 'Iris-virginica',\n",
              "       'Iris-virginica', 'Iris-setosa', 'Iris-virginica',\n",
              "       'Iris-versicolor', 'Iris-virginica', 'Iris-virginica',\n",
              "       'Iris-setosa', 'Iris-setosa', 'Iris-setosa', 'Iris-virginica',\n",
              "       'Iris-setosa', 'Iris-virginica', 'Iris-setosa', 'Iris-setosa',\n",
              "       'Iris-setosa', 'Iris-versicolor', 'Iris-virginica', 'Iris-setosa',\n",
              "       'Iris-setosa', 'Iris-versicolor', 'Iris-versicolor',\n",
              "       'Iris-versicolor', 'Iris-virginica', 'Iris-virginica',\n",
              "       'Iris-virginica', 'Iris-versicolor'], dtype=object)"
            ]
          },
          "metadata": {},
          "execution_count": 23
        }
      ]
    },
    {
      "cell_type": "code",
      "metadata": {
        "colab": {
          "base_uri": "https://localhost:8080/"
        },
        "id": "z-Tc2tvNCuP9",
        "outputId": "ad837a9a-0700-47ef-c233-3af2ddb8fd81"
      },
      "source": [
        "y_test"
      ],
      "execution_count": 24,
      "outputs": [
        {
          "output_type": "execute_result",
          "data": {
            "text/plain": [
              "69     Iris-versicolor\n",
              "14         Iris-setosa\n",
              "83     Iris-versicolor\n",
              "142     Iris-virginica\n",
              "67     Iris-versicolor\n",
              "50     Iris-versicolor\n",
              "124     Iris-virginica\n",
              "106     Iris-virginica\n",
              "97     Iris-versicolor\n",
              "35         Iris-setosa\n",
              "92     Iris-versicolor\n",
              "40         Iris-setosa\n",
              "5          Iris-setosa\n",
              "101     Iris-virginica\n",
              "51     Iris-versicolor\n",
              "78     Iris-versicolor\n",
              "121     Iris-virginica\n",
              "10         Iris-setosa\n",
              "114     Iris-virginica\n",
              "146     Iris-virginica\n",
              "22         Iris-setosa\n",
              "145     Iris-virginica\n",
              "57     Iris-versicolor\n",
              "138     Iris-virginica\n",
              "128     Iris-virginica\n",
              "25         Iris-setosa\n",
              "36         Iris-setosa\n",
              "47         Iris-setosa\n",
              "126     Iris-virginica\n",
              "21         Iris-setosa\n",
              "141     Iris-virginica\n",
              "16         Iris-setosa\n",
              "41         Iris-setosa\n",
              "42         Iris-setosa\n",
              "58     Iris-versicolor\n",
              "111     Iris-virginica\n",
              "34         Iris-setosa\n",
              "13         Iris-setosa\n",
              "65     Iris-versicolor\n",
              "80     Iris-versicolor\n",
              "96     Iris-versicolor\n",
              "136     Iris-virginica\n",
              "108     Iris-virginica\n",
              "100     Iris-virginica\n",
              "62     Iris-versicolor\n",
              "Name: Class, dtype: object"
            ]
          },
          "metadata": {},
          "execution_count": 24
        }
      ]
    },
    {
      "cell_type": "code",
      "metadata": {
        "colab": {
          "base_uri": "https://localhost:8080/"
        },
        "id": "sxmeTpIHCwNl",
        "outputId": "96c20218-7aa8-4962-8b27-c45a14e723d4"
      },
      "source": [
        "from sklearn.metrics import accuracy_score\n",
        "accuracy_score(y_test,pred)"
      ],
      "execution_count": 25,
      "outputs": [
        {
          "output_type": "execute_result",
          "data": {
            "text/plain": [
              "0.9777777777777777"
            ]
          },
          "metadata": {},
          "execution_count": 25
        }
      ]
    }
  ]
}